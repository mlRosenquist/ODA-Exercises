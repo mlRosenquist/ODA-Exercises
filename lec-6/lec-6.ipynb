{
 "cells": [
  {
   "cell_type": "markdown",
   "source": [
    "## Exercise 12.2\r\n",
    "![image info](images/12_2.png)"
   ],
   "metadata": {}
  },
  {
   "cell_type": "code",
   "execution_count": 2,
   "source": [
    "from sympy import * \r\n",
    "\r\n",
    "a, b = symbols('a,b')\r\n",
    "A = Matrix(([1, 1], [1,2], [1,4]))\r\n",
    "x = Matrix(([a], [b]))\r\n",
    "b = Matrix(([3], [4], [5]))\r\n",
    "\r\n",
    "A.LDLsolve(b)\r\n"
   ],
   "outputs": [
    {
     "output_type": "execute_result",
     "data": {
      "text/latex": [
       "$\\displaystyle \\left[\\begin{matrix}\\frac{5}{2}\\\\\\frac{9}{14}\\end{matrix}\\right]$"
      ],
      "text/plain": [
       "Matrix([\n",
       "[ 5/2],\n",
       "[9/14]])"
      ]
     },
     "metadata": {},
     "execution_count": 2
    }
   ],
   "metadata": {}
  },
  {
   "cell_type": "markdown",
   "source": [
    "## Exercise 12.4\r\n",
    "![image info](images/12_4.png)\r\n",
    "![image info](images/12_4_sol.png)"
   ],
   "metadata": {}
  }
 ],
 "metadata": {
  "orig_nbformat": 4,
  "language_info": {
   "name": "python",
   "version": "3.9.6",
   "mimetype": "text/x-python",
   "codemirror_mode": {
    "name": "ipython",
    "version": 3
   },
   "pygments_lexer": "ipython3",
   "nbconvert_exporter": "python",
   "file_extension": ".py"
  },
  "kernelspec": {
   "name": "python3",
   "display_name": "Python 3.9.6 64-bit"
  },
  "interpreter": {
   "hash": "a0336c1472b754141d11e893df3e4fe43be73ac794913f069c7b2715e42e131e"
  }
 },
 "nbformat": 4,
 "nbformat_minor": 2
}
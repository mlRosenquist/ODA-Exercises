{
 "cells": [
  {
   "cell_type": "markdown",
   "source": [
    "# Lec 3  "
   ],
   "metadata": {}
  },
  {
   "cell_type": "markdown",
   "source": [
    "## 5 CZ \r\n",
    "\r\n",
    "### 5.9\r\n",
    "![image info](./images/CZ_5_9.png)\r\n",
    "\r\n",
    "$$x^2_1-x^2_2=12$$ \r\n",
    "$$x_2=8/x_1$$\r\n",
    "$$x^2_1-8/x_1=12$$\r\n",
    "$$x^4_1-12x^2_1-64=0$$\r\n",
    "\r\n",
    "$$\\begin{matrix} \r\n",
    "4 \\\\\r\n",
    "2 \r\n",
    "\\end{matrix}$$\r\n",
    "\r\n",
    "$$\\begin{matrix} \r\n",
    "-4 \\\\\r\n",
    "-2 \r\n",
    "\\end{matrix}$$\r\n"
   ],
   "metadata": {}
  },
  {
   "cell_type": "code",
   "execution_count": 38,
   "source": [
    "import numpy as np\r\n",
    "import matplotlib.pyplot as plt\r\n",
    "import scipy.stats as stats\r\n",
    "\r\n",
    "def p(x):\r\n",
    "    return x**4 - 12*x**2-64\r\n",
    "\r\n",
    "\r\n",
    "coeffs = [1, 0, -12, 0, -64]\r\n",
    "print(np.roots(coeffs))\r\n",
    "\r\n"
   ],
   "outputs": [
    {
     "output_type": "stream",
     "name": "stdout",
     "text": [
      "[-4.00000000e+00+0.j  4.00000000e+00+0.j  2.77555756e-16+2.j\n",
      "  2.77555756e-16-2.j]\n"
     ]
    }
   ],
   "metadata": {}
  },
  {
   "cell_type": "markdown",
   "source": [
    "### 5.10 a\r\n",
    "![image info](./images/CZ_5_10a.png)\r\n",
    "\r\n"
   ],
   "metadata": {}
  },
  {
   "cell_type": "code",
   "execution_count": null,
   "source": [],
   "outputs": [],
   "metadata": {}
  },
  {
   "cell_type": "markdown",
   "source": [
    "### 5.10 b\r\n",
    "![image info](./images/CZ_5_10b.png)\r\n",
    "\r\n",
    "## 6 CZ\r\n",
    "\r\n",
    "### 6.3 \r\n",
    "![image info](./images/CZ_6_3.png)\r\n",
    "\r\n",
    "### 6.8 \r\n",
    "![image info](./images/CZ_6_8.png)\r\n",
    "\r\n",
    "### 6.10\r\n",
    "![image info](./images/CZ_6_10.png)\r\n",
    "\r\n",
    "### 6.11\r\n",
    "![image info](./images/CZ_6_11.png)\r\n",
    "\r\n",
    "### 6.20\r\n",
    "![image info](./images/CZ_6_20.png)\r\n",
    "\r\n",
    "### 6.23 \r\n",
    "![image info](./images/CZ_6_23.png)\r\n",
    "\r\n",
    "## Quadratic Forms\r\n",
    "![image info](./images/QF.png)\r\n",
    "### 10\r\n",
    "\r\n",
    "### 11 \r\n",
    "\r\n",
    "### 12"
   ],
   "metadata": {}
  },
  {
   "cell_type": "code",
   "execution_count": null,
   "source": [],
   "outputs": [],
   "metadata": {}
  }
 ],
 "metadata": {
  "orig_nbformat": 4,
  "language_info": {
   "name": "python",
   "version": "3.9.5",
   "mimetype": "text/x-python",
   "codemirror_mode": {
    "name": "ipython",
    "version": 3
   },
   "pygments_lexer": "ipython3",
   "nbconvert_exporter": "python",
   "file_extension": ".py"
  },
  "kernelspec": {
   "name": "python3",
   "display_name": "Python 3.9.5 64-bit"
  },
  "interpreter": {
   "hash": "c6355558afb2c03976442ebe79a14d2dbb2da56920c044596abed84e99b3f7f5"
  }
 },
 "nbformat": 4,
 "nbformat_minor": 2
}
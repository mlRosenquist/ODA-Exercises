{
 "cells": [
  {
   "cell_type": "markdown",
   "source": [
    "# Lec 3  "
   ],
   "metadata": {}
  },
  {
   "cell_type": "markdown",
   "source": [
    "## 5 CZ \r\n",
    "\r\n",
    "### 5.9\r\n",
    "![image info](./images/CZ_5_9.png)\r\n",
    "\r\n",
    "$$x^2_1-x^2_2=12$$ \r\n",
    "$$x_2=8/x_1$$\r\n",
    "$$x^2_1-8/x_1=12$$\r\n",
    "$$x^4_1-12x^2_1-64=0$$\r\n",
    "\r\n",
    "$$\\begin{matrix} \r\n",
    "4 \\\\\r\n",
    "2 \r\n",
    "\\end{matrix}$$\r\n",
    "\r\n",
    "$$\\begin{matrix} \r\n",
    "-4 \\\\\r\n",
    "-2 \r\n",
    "\\end{matrix}$$\r\n"
   ],
   "metadata": {}
  },
  {
   "cell_type": "code",
   "execution_count": 74,
   "source": [
    "import numpy as np\r\n",
    "import matplotlib.pyplot as plt\r\n",
    "import scipy.stats as stats\r\n",
    "\r\n",
    "def p(x):\r\n",
    "    return x**4 - 12*x**2-64\r\n",
    "\r\n",
    "\r\n",
    "coeffs = [1, 0, -12, 0, -64]\r\n",
    "print(np.roots(coeffs))\r\n",
    "\r\n"
   ],
   "outputs": [
    {
     "output_type": "stream",
     "name": "stdout",
     "text": [
      "[-4.00000000e+00+0.j  4.00000000e+00+0.j  2.77555756e-16+2.j\n",
      "  2.77555756e-16-2.j]\n"
     ]
    }
   ],
   "metadata": {}
  },
  {
   "cell_type": "markdown",
   "source": [
    "### 5.10 a\r\n",
    "![image info](./images/CZ_5_10a.png)\r\n",
    "\r\n"
   ],
   "metadata": {}
  },
  {
   "cell_type": "markdown",
   "source": [
    "Have\r\n",
    "$$\r\n",
    "f(x)=f(x_0)+1/1*Df(x_0)(x-x_0)+1/2*(x-x_0)^T*D^2*f(x_0)(x-x_0) \\\\\r\n",
    "= \r\n",
    "$$\r\n",
    "\r\n",
    "We compute\r\n",
    "\r\n",
    "$$Df(x)=\r\n",
    "\\begin{matrix} \r\n",
    "[e^{-x_2}, -x_1e^{-x_2}+1] \r\n",
    "\\end{matrix}$$\r\n",
    "\r\n",
    "Hence\r\n",
    "\r\n",
    "$$\r\n",
    "\\begin{align}\r\n",
    "f(x)  \r\n",
    "&= 2 +\r\n",
    "\\begin{bmatrix} \r\n",
    "1 & 0 \r\n",
    "\\end{bmatrix} *\r\n",
    "\\begin{bmatrix} \r\n",
    "x_1 - 1 \\\\\r\n",
    "x_2\r\n",
    "\\end{bmatrix} + 1/2 * \r\n",
    "\\begin{bmatrix} \r\n",
    "x_1 - 1 x_2\r\n",
    "\\end{bmatrix} * \r\n",
    "\\begin{bmatrix} \r\n",
    "0 & -1 \\\\\r\n",
    "-1 & 1 \r\n",
    "\\end{bmatrix} *\r\n",
    "\\begin{bmatrix} \r\n",
    "x_1 - 1 \\\\\r\n",
    "x_2\r\n",
    "\\end{bmatrix} \\\\\r\n",
    "&=\r\n",
    "2 + x_1-1+1/2*()\r\n",
    "\\end{align}\r\n",
    "$$"
   ],
   "metadata": {}
  },
  {
   "cell_type": "code",
   "execution_count": 75,
   "source": [
    "import numpy as np\r\n",
    "import matplotlib.pyplot as plt\r\n",
    "import scipy.stats as stats\r\n",
    "from sympy import init_printing, symbols, Matrix, simplify\r\n",
    "init_printing(use_unicode=False, wrap_line=False)\r\n",
    "\r\n",
    "def f(x, y):\r\n",
    "    return x*np.exp(-y)+y+1\r\n",
    "\r\n",
    "x_0 = [1, 0] \r\n",
    "\r\n",
    "f(x_0[0], x_0[1])\r\n",
    "x1, x2 = symbols('x1,x2')\r\n",
    "#Matrix(([x1-1, x2])).dot(Matrix(([0, -1], [-1, 1])) * Matrix(([x1-1], [x2])))\r\n",
    "#Matrix(([0, -1], [-1, 1])) * Matrix(([x1-1], [x2]))\r\n",
    "#Matrix(([x1-1, x2])).dot(Matrix(([0, -1], [-1, 1]))).dot(Matrix(([x1-1], [x2])))\r\n",
    "f = 2 + Matrix(([1,0])).dot(Matrix(([x1-1], [x2]))) + 1/2 * Matrix(([x1-1, x2])).dot(Matrix(([0, -1], [-1, 1])) * Matrix(([x1-1], [x2])))\r\n",
    "simplify(f)"
   ],
   "outputs": [
    {
     "output_type": "stream",
     "name": "stderr",
     "text": [
      "C:\\Users\\MLR\\AppData\\Local\\Programs\\Python\\Python39\\lib\\site-packages\\IPython\\lib\\latextools.py:126: MatplotlibDeprecationWarning: \n",
      "The to_png function was deprecated in Matplotlib 3.4 and will be removed two minor releases later. Use mathtext.math_to_image instead.\n",
      "  mt.to_png(f, s, fontsize=12, dpi=dpi, color=color)\n",
      "C:\\Users\\MLR\\AppData\\Local\\Programs\\Python\\Python39\\lib\\site-packages\\IPython\\lib\\latextools.py:126: MatplotlibDeprecationWarning: \n",
      "The to_rgba function was deprecated in Matplotlib 3.4 and will be removed two minor releases later. Use mathtext.math_to_image instead.\n",
      "  mt.to_png(f, s, fontsize=12, dpi=dpi, color=color)\n",
      "C:\\Users\\MLR\\AppData\\Local\\Programs\\Python\\Python39\\lib\\site-packages\\IPython\\lib\\latextools.py:126: MatplotlibDeprecationWarning: \n",
      "The to_mask function was deprecated in Matplotlib 3.4 and will be removed two minor releases later. Use mathtext.math_to_image instead.\n",
      "  mt.to_png(f, s, fontsize=12, dpi=dpi, color=color)\n",
      "C:\\Users\\MLR\\AppData\\Local\\Programs\\Python\\Python39\\lib\\site-packages\\IPython\\lib\\latextools.py:126: MatplotlibDeprecationWarning: \n",
      "The MathtextBackendBitmap class was deprecated in Matplotlib 3.4 and will be removed two minor releases later. Use mathtext.math_to_image instead.\n",
      "  mt.to_png(f, s, fontsize=12, dpi=dpi, color=color)\n"
     ]
    },
    {
     "output_type": "execute_result",
     "data": {
      "text/plain": [
       "                    2             \n",
       "-x1*x2 + x1 + 0.5*x2  + 1.0*x2 + 1"
      ],
      "image/png": "[encoded data removed]",
      "text/latex": [
       "$\\displaystyle - 1.0 x_{1} x_{2} + x_{1} + 0.5 x_{2}^{2} + 1.0 x_{2} + 1$"
      ]
     },
     "metadata": {},
     "execution_count": 75
    }
   ],
   "metadata": {}
  },
  {
   "cell_type": "markdown",
   "source": [
    "### 5.10 b\r\n",
    "![image info](./images/CZ_5_10b.png)\r\n",
    "\r\n",
    "Have\r\n",
    "$$\r\n",
    "f(x)=f(x_0)+1/1*Df(x_0)(x-x_0)+1/2*(x-x_0)^T*D^2f(x_0)(x-x_0) \\\\\r\n",
    "= \r\n",
    "$$\r\n",
    "\r\n",
    "We compute\r\n",
    "\r\n",
    "$$Df(x)=\r\n",
    "\\begin{matrix} \r\n",
    "[e^{-x_2}, -x_1e^{-x_2}+1] \r\n",
    "\\end{matrix}$$\r\n",
    "\r\n",
    "Hence\r\n",
    "\r\n",
    "$$\r\n",
    "\\begin{align}\r\n",
    "f(x)  \r\n",
    "&= 2 +\r\n",
    "\\begin{bmatrix} \r\n",
    "1 & 0 \r\n",
    "\\end{bmatrix} *\r\n",
    "\\begin{bmatrix} \r\n",
    "x_1 - 1 \\\\\r\n",
    "x_2\r\n",
    "\\end{bmatrix} + 1/2 * \r\n",
    "\\begin{bmatrix} \r\n",
    "x_1 - 1 x_2\r\n",
    "\\end{bmatrix} * \r\n",
    "\\begin{bmatrix} \r\n",
    "0 & -1 \\\\\r\n",
    "-1 & 1 \r\n",
    "\\end{bmatrix} *\r\n",
    "\\begin{bmatrix} \r\n",
    "x_1 - 1 \\\\\r\n",
    "x_2\r\n",
    "\\end{bmatrix} \\\\\r\n",
    "&=\r\n",
    "2 + x_1-1+1/2*()\r\n",
    "\\end{align}\r\n",
    "$$"
   ],
   "metadata": {}
  },
  {
   "cell_type": "code",
   "execution_count": 137,
   "source": [
    "from sympy import lambdify, transpose, dsolve, Derivative\r\n",
    "x1, x2 = symbols('x1,x2')\r\n",
    "\r\n",
    "def f(x1, x2): \r\n",
    "    return x1**4+2*x1**2*x2**2+x2**4\r\n",
    "\r\n",
    "expr = x1**4+2*x1**2*x2**2+x2**4\r\n",
    "\r\n",
    "d = Matrix(([expr.diff((x1)), expr.diff((x2))]))\r\n",
    "d = lambdify([x1, x2], d)\r\n",
    "d2 = Matrix(([expr.diff((x1), 2), expr.diff((x2), 2)]))\r\n",
    "d2 = lambdify([x1, x2], d2)\r\n",
    "\r\n",
    "x0 = Matrix(([1], [1]))\r\n",
    "x = Matrix(([x1], [x2]))\r\n",
    "#f = 2 + Matrix(([1,0])).dot(Matrix(([x1-1], [x2]))) + 1/2 * Matrix(([x1-1, x2])).dot(Matrix(([0, -1], [-1, 1])) * Matrix(([x1-1], [x2])))\r\n",
    "#f_x = f(1, 1)+1*Matrix(d(1, 1)).dot((x-x0))+1/2*transpose(x-x0).dot(Matrix(d2(1, 1))*(x-x0))\r\n"
   ],
   "outputs": [
    {
     "output_type": "execute_result",
     "data": {
      "text/plain": [
       "  2                        \n",
       " d  /  4       2   2     4\\\n",
       "----\\x1  + 2*x1 *x2  + x2 /\n",
       "   2                       \n",
       "dx1                        "
      ],
      "image/png": "[encoded data removed]",
      "text/latex": [
       "$\\displaystyle \\frac{\\partial^{2}}{\\partial x_{1}^{2}} \\left(x_{1}^{4} + 2 x_{1}^{2} x_{2}^{2} + x_{2}^{4}\\right)$"
      ]
     },
     "metadata": {},
     "execution_count": 137
    }
   ],
   "metadata": {}
  },
  {
   "cell_type": "markdown",
   "source": [
    "## 6 CZ\r\n",
    "\r\n",
    "### 6.3 \r\n",
    "![image info](./images/CZ_6_3.png)\r\n",
    "\r\n",
    "### 6.8 \r\n",
    "![image info](./images/CZ_6_8.png)\r\n",
    "\r\n",
    "### 6.10\r\n",
    "![image info](./images/CZ_6_10.png)\r\n",
    "\r\n",
    "### 6.11\r\n",
    "![image info](./images/CZ_6_11.png)\r\n",
    "\r\n",
    "### 6.20\r\n",
    "![image info](./images/CZ_6_20.png)\r\n",
    "\r\n",
    "### 6.23 \r\n",
    "![image info](./images/CZ_6_23.png)\r\n",
    "\r\n",
    "## Quadratic Forms\r\n",
    "![image info](./images/QF.png)\r\n",
    "### 10\r\n",
    "\r\n",
    "### 11 \r\n",
    "\r\n",
    "### 12"
   ],
   "metadata": {}
  },
  {
   "cell_type": "code",
   "execution_count": null,
   "source": [],
   "outputs": [],
   "metadata": {}
  }
 ],
 "metadata": {
  "orig_nbformat": 4,
  "language_info": {
   "name": "python",
   "version": "3.9.6",
   "mimetype": "text/x-python",
   "codemirror_mode": {
    "name": "ipython",
    "version": 3
   },
   "pygments_lexer": "ipython3",
   "nbconvert_exporter": "python",
   "file_extension": ".py"
  },
  "kernelspec": {
   "name": "python3",
   "display_name": "Python 3.9.6 64-bit"
  },
  "interpreter": {
   "hash": "a0336c1472b754141d11e893df3e4fe43be73ac794913f069c7b2715e42e131e"
  }
 },
 "nbformat": 4,
 "nbformat_minor": 2
}
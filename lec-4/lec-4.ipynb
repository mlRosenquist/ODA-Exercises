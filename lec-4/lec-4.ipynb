{
 "cells": [
  {
   "cell_type": "markdown",
   "source": [
    "# Lec 3  "
   ],
   "metadata": {}
  },
  {
   "cell_type": "markdown",
   "source": [
    "## 5 CZ \r\n",
    "\r\n",
    "### 5.9\r\n",
    "![image info](images/CZ_5_9.png)\r\n",
    "\r\n",
    "$$x^2_1-x^2_2=12$$ \r\n",
    "$$x_2=8/x_1$$\r\n",
    "$$x^2_1-8/x_1=12$$\r\n",
    "$$x^4_1-12x^2_1-64=0$$\r\n",
    "\r\n",
    "$$\\begin{matrix} \r\n",
    "4 \\\\\r\n",
    "2 \r\n",
    "\\end{matrix}$$\r\n",
    "\r\n",
    "$$\\begin{matrix} \r\n",
    "-4 \\\\\r\n",
    "-2 \r\n",
    "\\end{matrix}$$\r\n"
   ],
   "metadata": {}
  },
  {
   "cell_type": "code",
   "execution_count": 1,
   "source": [
    "import numpy as np\r\n",
    "import matplotlib.pyplot as plt\r\n",
    "import scipy.stats as stats\r\n",
    "\r\n",
    "def p(x):\r\n",
    "    return x**4 - 12*x**2-64\r\n",
    "\r\n",
    "\r\n",
    "coeffs = [1, 0, -12, 0, -64]\r\n",
    "print(np.roots(coeffs))\r\n",
    "#\r\n"
   ],
   "outputs": [
    {
     "output_type": "stream",
     "name": "stdout",
     "text": [
      "[-4.00000000e+00+0.j  4.00000000e+00+0.j  2.77555756e-16+2.j\n",
      "  2.77555756e-16-2.j]\n"
     ]
    }
   ],
   "metadata": {}
  },
  {
   "cell_type": "markdown",
   "source": [
    "### 5.10 a\r\n",
    "![image info](images/CZ_5_10a.png)\r\n",
    "\r\n"
   ],
   "metadata": {}
  },
  {
   "cell_type": "markdown",
   "source": [
    "Have\r\n",
    "$$\r\n",
    "f(x)=f(x_0)+1/1*Df(x_0)(x-x_0)+1/2*(x-x_0)^T*D^2*f(x_0)(x-x_0) \\\\\r\n",
    "= \r\n",
    "$$\r\n",
    "\r\n",
    "We compute\r\n",
    "\r\n",
    "$$Df(x)=\r\n",
    "\\begin{matrix} \r\n",
    "[e^{-x_2}, -x_1e^{-x_2}+1] \r\n",
    "\\end{matrix}$$\r\n",
    "\r\n",
    "Hence\r\n",
    "\r\n",
    "$$\r\n",
    "\\begin{align}\r\n",
    "f(x)  \r\n",
    "&= 2 +\r\n",
    "\\begin{bmatrix} \r\n",
    "1 & 0 \r\n",
    "\\end{bmatrix} *\r\n",
    "\\begin{bmatrix} \r\n",
    "x_1 - 1 \\\\\r\n",
    "x_2\r\n",
    "\\end{bmatrix} + 1/2 * \r\n",
    "\\begin{bmatrix} \r\n",
    "x_1 - 1 x_2\r\n",
    "\\end{bmatrix} * \r\n",
    "\\begin{bmatrix} \r\n",
    "0 & -1 \\\\\r\n",
    "-1 & 1 \r\n",
    "\\end{bmatrix} *\r\n",
    "\\begin{bmatrix} \r\n",
    "x_1 - 1 \\\\\r\n",
    "x_2\r\n",
    "\\end{bmatrix} \\\\\r\n",
    "&=\r\n",
    "2 + x_1-1+1/2*()\r\n",
    "\\end{align}\r\n",
    "$$"
   ],
   "metadata": {}
  },
  {
   "cell_type": "code",
   "execution_count": 2,
   "source": [
    "import numpy as np\r\n",
    "import matplotlib.pyplot as plt\r\n",
    "import scipy.stats as stats\r\n",
    "from sympy import *\r\n",
    "init_printing(use_unicode=False, wrap_line=False)\r\n",
    "\r\n",
    "def f(x, y):\r\n",
    "    return x*np.exp(-y)+y+1\r\n",
    "\r\n",
    "x_0 = [1, 0] \r\n",
    "\r\n",
    "f(x_0[0], x_0[1])\r\n",
    "x1, x2 = symbols('x1,x2')\r\n",
    "f = 2 + Matrix(([1,0])).dot(Matrix(([x1-1], [x2]))) + 1/2 * Matrix(([x1-1, x2])).dot(Matrix(([0, -1], [-1, 1])) * Matrix(([x1-1], [x2])))\r\n",
    "pprint(simplify(f))"
   ],
   "outputs": [
    {
     "output_type": "stream",
     "name": "stdout",
     "text": [
      "                    2             \n",
      "-x1*x2 + x1 + 0.5*x2  + 1.0*x2 + 1\n"
     ]
    }
   ],
   "metadata": {}
  },
  {
   "cell_type": "markdown",
   "source": [
    "### 5.10 b\r\n",
    "![image info](images/CZ_5_10b.png)\r\n",
    "\r\n",
    "Have\r\n",
    "$$\r\n",
    "f(x)=f(x_0)+1/1*Df(x_0)(x-x_0)+1/2*(x-x_0)^T*D^2f(x_0)(x-x_0) \\\\\r\n",
    "= \r\n",
    "$$\r\n",
    "\r\n",
    "We compute\r\n",
    "\r\n",
    "$$Df(x)=\r\n",
    "\\begin{matrix} \r\n",
    "[e^{-x_2}, -x_1e^{-x_2}+1] \r\n",
    "\\end{matrix}$$\r\n",
    "\r\n",
    "Hence\r\n",
    "\r\n",
    "$$\r\n",
    "\\begin{align}\r\n",
    "f(x)  \r\n",
    "&= 2 +\r\n",
    "\\begin{bmatrix} \r\n",
    "1 & 0 \r\n",
    "\\end{bmatrix} *\r\n",
    "\\begin{bmatrix} \r\n",
    "x_1 - 1 \\\\\r\n",
    "x_2\r\n",
    "\\end{bmatrix} + 1/2 * \r\n",
    "\\begin{bmatrix} \r\n",
    "x_1 - 1 x_2\r\n",
    "\\end{bmatrix} * \r\n",
    "\\begin{bmatrix} \r\n",
    "0 & -1 \\\\\r\n",
    "-1 & 1 \r\n",
    "\\end{bmatrix} *\r\n",
    "\\begin{bmatrix} \r\n",
    "x_1 - 1 \\\\\r\n",
    "x_2\r\n",
    "\\end{bmatrix} \\\\\r\n",
    "&=\r\n",
    "2 + x_1-1+1/2*()\r\n",
    "\\end{align}\r\n",
    "$$"
   ],
   "metadata": {}
  },
  {
   "cell_type": "code",
   "execution_count": 3,
   "source": [
    "from sympy import lambdify, transpose, dsolve, Derivative, symbols, Matrix, simplify, expand, summation\r\n",
    "x1, x2 = symbols('x1,x2', integer=True)\r\n",
    "\r\n",
    "def f(x1, x2): \r\n",
    "    return x1**4+2*x1**2*x2**2+x2**4\r\n",
    "\r\n",
    "expr = x1**4+2*x1**2*x2**2+x2**4\r\n",
    "\r\n",
    "d = Matrix(([expr.diff((x1)), expr.diff((x2))]))\r\n",
    "d = lambdify([x1, x2], d)\r\n",
    "d2 = Matrix(([expr.diff(x1, 2), expr.diff(x2,x1, 2)], [expr.diff(x1,x2, 2), expr.diff(x2, 2)]))\r\n",
    "d2 = lambdify([x1, x2], d2)\r\n",
    "\r\n",
    "x0 = Matrix(([1], [1]))\r\n",
    "x = Matrix(([x1], [x2]))\r\n",
    "\r\n",
    "f_x_1 = f(1, 1)+1*Matrix(d(1, 1)).dot((x-x0))\r\n",
    "f_x_2 = 1/2*transpose(x-x0) * (Matrix(d2(1, 1))) * (x-x0)\r\n",
    "\r\n",
    "simplify(f_x_2[0,0] + f_x_1)"
   ],
   "outputs": [
    {
     "output_type": "execute_result",
     "data": {
      "text/latex": [
       "$\\displaystyle 8.0 x_{1}^{2} + 8.0 x_{1} x_{2} - 16.0 x_{1} + 8.0 x_{2}^{2} - 16.0 x_{2} + 12.0$"
      ],
      "image/png": "[encoded data removed]",
      "text/plain": [
       "      2                               2                 \n",
       "8.0*x1  + 8.0*x1*x2 - 16.0*x1 + 8.0*x2  - 16.0*x2 + 12.0"
      ]
     },
     "metadata": {},
     "execution_count": 3
    }
   ],
   "metadata": {}
  },
  {
   "cell_type": "markdown",
   "source": [
    "## 6 CZ\r\n",
    "\r\n",
    "### 6.3 \r\n",
    "![image info](images/CZ_6_3.png)\r\n",
    "![image info](images/CZ_6_3_sol.png)"
   ],
   "metadata": {}
  },
  {
   "cell_type": "markdown",
   "source": [
    "### 6.8 \r\n",
    "![image info](images/CZ_6_8.png)"
   ],
   "metadata": {}
  },
  {
   "cell_type": "code",
   "execution_count": 4,
   "source": [
    "import sympy as sym\r\n",
    "import numpy as np\r\n",
    "sym.init_printing()\r\n",
    "x1, x2 = sym.symbols('x1,x2', integer=True)\r\n",
    "x = sym.MatrixSymbol('x', 2, 1)\r\n",
    "\r\n",
    "print('a)')\r\n",
    "gradexpr = 2*sym.Matrix(([1,3],[3,7]))*x+sym.Matrix(([3], [5]))\r\n",
    "\r\n",
    "grad = sym.lambdify([x], gradexpr)\r\n",
    "\r\n",
    "F_x = 2*sym.Matrix(([1,3],[3,7]))*x\r\n",
    "result = sym.Matrix(grad(sym.Matrix([1,1])))\r\n",
    "sym.pprint(result)\r\n",
    "print('b)')\r\n",
    "\r\n",
    "sym.pprint(np.linalg.norm(np.array(result).astype(np.float64)))\r\n",
    "\r\n",
    "print('c)')\r\n",
    "sym.pprint(sym.linsolve(sym.Matrix(([2*x1+6*x2+3],[6*x1+14*x2+5])), (x1,x2)))"
   ],
   "outputs": [
    {
     "output_type": "stream",
     "name": "stdout",
     "text": [
      "a)\n",
      "⎡11⎤\n",
      "⎢  ⎥\n",
      "⎣25⎦\n",
      "b)\n",
      "27.313000567495326\n",
      "c)\n",
      "{(3/2, -1)}\n"
     ]
    }
   ],
   "metadata": {}
  },
  {
   "cell_type": "markdown",
   "source": [
    "### 6.10\r\n",
    "![image info](images/CZ_6_10.png)"
   ],
   "metadata": {}
  },
  {
   "cell_type": "code",
   "execution_count": 5,
   "source": [
    "from sympy import *\r\n",
    "from numpy import *\r\n",
    "init_printing()\r\n",
    "#a\r\n",
    "x1, x2 = symbols('x1,x2')\r\n",
    "x = Matrix(([x1], [x2]))\r\n",
    "\r\n",
    "eq = ((1/2)*transpose(x)*Matrix(([4,4], [4,2]))*x)[0,0]+transpose(x).dot(Matrix(([3],[4])))[0,0]+7\r\n",
    "v = list(ordered(eq.free_symbols)) \r\n",
    "\r\n",
    "gradient = lambda f, v: Matrix([f]).jacobian(v)\r\n",
    "\r\n",
    "grad_expr = hessian(eq, v)*x+Matrix(([3], [4]))\r\n",
    "pprint(grad_expr)\r\n",
    "grad = lambdify([x1,x2], grad_expr)\r\n",
    "\r\n",
    "F = hessian(eq, v)\r\n",
    "\r\n",
    "pprint(grad(0,1))\r\n",
    "\r\n",
    "pprint(Matrix(transpose([1,0])).dot(grad(0,1)))\r\n",
    "\r\n",
    "#b\r\n",
    "sym.pprint(sym.linsolve(Matrix(grad_expr), (x1,x2)))"
   ],
   "outputs": [
    {
     "output_type": "stream",
     "name": "stdout",
     "text": [
      "⎡4.0⋅x₁ + 4.0⋅x₂ + 3⎤\n",
      "⎢                   ⎥\n",
      "⎣4.0⋅x₁ + 2.0⋅x₂ + 4⎦\n",
      "[[7.] \n",
      " [6.]]\n",
      "7.00000000000000\n",
      "{(-1.25, 0.5)}\n"
     ]
    }
   ],
   "metadata": {}
  },
  {
   "cell_type": "markdown",
   "source": [
    "### 6.11\r\n",
    "![image info](images/CZ_6_11.png)\r\n",
    "![image info](images/CZ_6_11_sol.png)"
   ],
   "metadata": {}
  },
  {
   "cell_type": "markdown",
   "source": [
    "### 6.20\r\n",
    "![image info](images/CZ_6_20.png)"
   ],
   "metadata": {}
  },
  {
   "cell_type": "code",
   "execution_count": 6,
   "source": [
    "from sympy import *\r\n",
    "from numpy import *\r\n",
    "init_printing()\r\n",
    "x = symbols('x')\r\n",
    "\r\n",
    "eq = (1+(2-x)**2)/(1+x**2)\r\n",
    "\r\n",
    "D = eq.diff(x)\r\n",
    "D_func = lambdify([x], D)\r\n",
    "pprint(solveset(D))\r\n",
    "\r\n",
    "\r\n",
    "\r\n",
    "\r\n"
   ],
   "outputs": [
    {
     "output_type": "stream",
     "name": "stdout",
     "text": [
      "{1 - √2, 1 + √2}\n"
     ]
    }
   ],
   "metadata": {}
  },
  {
   "cell_type": "markdown",
   "source": [
    "### 6.23 \r\n",
    "![image info](images/CZ_6_23.png)"
   ],
   "metadata": {}
  },
  {
   "cell_type": "markdown",
   "source": [
    "## Quadratic Forms\r\n",
    "![image info](images/QF.png)\r\n",
    "### 10"
   ],
   "metadata": {}
  },
  {
   "cell_type": "code",
   "execution_count": 7,
   "source": [
    "from sympy import *\r\n",
    "from numpy import *\r\n",
    "init_printing()\r\n",
    "\r\n",
    "x1, x2 = symbols('x1,x2')\r\n",
    "x = Matrix(([x1],[x2]))\r\n",
    "\r\n",
    "y1, y2 = symbols('y1,y2')\r\n",
    "y = Matrix(([y1],[y2]))\r\n",
    "\r\n",
    "eq = 9*x1**2-8*x1*x2+3*x2**2\r\n",
    "A = Matrix(([9,-4], [-4,3]))\r\n",
    "\r\n",
    "values, P = linalg.eig(array(A).astype(float64))\r\n",
    "D = Matrix(([values[0],0], [0,values[1]]))\r\n",
    "\r\n",
    "A = P*D*linalg.inv(P)\r\n",
    "\r\n",
    "pprint((transpose(y)*D*y)[0,0])\r\n",
    "\r\n"
   ],
   "outputs": [
    {
     "output_type": "stream",
     "name": "stdout",
     "text": [
      "       2         2\n",
      "11.0⋅y₁  + 1.0⋅y₂ \n"
     ]
    }
   ],
   "metadata": {}
  },
  {
   "cell_type": "markdown",
   "source": [
    "### 11 \r\n"
   ],
   "metadata": {}
  },
  {
   "cell_type": "code",
   "execution_count": 8,
   "source": [
    "from sympy import *\r\n",
    "from numpy import *\r\n",
    "init_printing()\r\n",
    "\r\n",
    "x1, x2 = symbols('x1,x2')\r\n",
    "x = Matrix(([x1],[x2]))\r\n",
    "\r\n",
    "y1, y2 = symbols('y1,y2')\r\n",
    "y = Matrix(([y1],[y2]))\r\n",
    "\r\n",
    "eq = 2*x1**2+10*x1*x2*x2**2\r\n",
    "A = Matrix(([2,5], [5,2]))\r\n",
    "\r\n",
    "values, P = linalg.eig(array(A).astype(float64))\r\n",
    "D = Matrix(([values[0],0], [0,values[1]]))\r\n",
    "\r\n",
    "A = P*D*linalg.inv(P)\r\n",
    "\r\n",
    "pprint((transpose(y)*D*y)[0,0])\r\n",
    "\r\n",
    "\r\n"
   ],
   "outputs": [
    {
     "output_type": "stream",
     "name": "stdout",
     "text": [
      "      2         2\n",
      "7.0⋅y₁  - 3.0⋅y₂ \n"
     ]
    }
   ],
   "metadata": {}
  },
  {
   "cell_type": "markdown",
   "source": [
    "\r\n",
    "\r\n",
    "\r\n",
    "\r\n",
    "\r\n",
    "\r\n",
    "\r\n",
    "\r\n",
    "\r\n",
    "\r\n",
    "\r\n",
    "### 12"
   ],
   "metadata": {}
  },
  {
   "cell_type": "code",
   "execution_count": 9,
   "source": [
    "from sympy import *\r\n",
    "from numpy import *\r\n",
    "init_printing()\r\n",
    "\r\n",
    "x1, x2 = symbols('x1,x2')\r\n",
    "x = Matrix(([x1],[x2]))\r\n",
    "\r\n",
    "y1, y2 = symbols('y1,y2')\r\n",
    "y = Matrix(([y1],[y2]))\r\n",
    "\r\n",
    "eq = -5*x1**2+4*x1*x2-2*x2**2\r\n",
    "A = Matrix(([-5,2], [2,-2]))\r\n",
    "\r\n",
    "values, P = linalg.eig(array(A).astype(float64))\r\n",
    "D = Matrix(([values[0],0], [0,values[1]]))\r\n",
    "\r\n",
    "A = P*D*linalg.inv(P)\r\n",
    "\r\n",
    "(transpose(y)*D*y)[0,0]\r\n",
    "\r\n",
    "\r\n"
   ],
   "outputs": [
    {
     "output_type": "execute_result",
     "data": {
      "text/latex": [
       "$\\displaystyle - 6.0 y_{1}^{2} - 1.0 y_{2}^{2}$"
      ],
      "image/png": "[encoded data removed]",
      "text/plain": [
       "        2     2\n",
       "- 6.0⋅y₁  - y₂ "
      ]
     },
     "metadata": {},
     "execution_count": 9
    }
   ],
   "metadata": {}
  }
 ],
 "metadata": {
  "orig_nbformat": 4,
  "language_info": {
   "name": "python",
   "version": "3.9.6",
   "mimetype": "text/x-python",
   "codemirror_mode": {
    "name": "ipython",
    "version": 3
   },
   "pygments_lexer": "ipython3",
   "nbconvert_exporter": "python",
   "file_extension": ".py"
  },
  "kernelspec": {
   "name": "python3",
   "display_name": "Python 3.9.6 64-bit"
  },
  "interpreter": {
   "hash": "a0336c1472b754141d11e893df3e4fe43be73ac794913f069c7b2715e42e131e"
  }
 },
 "nbformat": 4,
 "nbformat_minor": 2
}
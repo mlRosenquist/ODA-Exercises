import sympy as sp
import numpy as np

x1,x2 = sp.symbols('x1,x2')

y = 3*(x1**2+x2**2)+4*x1*x2+5*x1+6*x2+7

print(sp.simplify(y))

Q = np.array(([6,4], [4,6]))
p = 1 + 1
print(np.linalg.eigvalsh(Q))



import numpy as np
import matplotlib.pyplot as plt
from scipy import optimize
import math 

def f(x):
  return x**2+4*math.cos(x)

x = np.linspace(1,2,1000)

y = x**2+4*np.cos(x)
plt.plot(x, y)
minimum = optimize.golden(f, brack=(1,2), full_output=True)
minimum




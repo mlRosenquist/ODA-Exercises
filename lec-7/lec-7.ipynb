{
 "cells": [
  {
   "cell_type": "markdown",
   "source": [
    "## CZ 7\r\n",
    "### Exercise 7.2.a\r\n",
    "![image info](images/7_2_a.png)"
   ],
   "metadata": {}
  },
  {
   "cell_type": "markdown",
   "source": [
    "### Exercise 7.3\r\n",
    "![image info](images/7_3.png)"
   ],
   "metadata": {}
  },
  {
   "cell_type": "markdown",
   "source": [
    "### Exercise 7.10\r\n",
    "![image info](images/7_10.png)"
   ],
   "metadata": {}
  }
 ],
 "metadata": {
  "orig_nbformat": 4,
  "language_info": {
   "name": "python",
   "version": "3.9.6",
   "mimetype": "text/x-python",
   "codemirror_mode": {
    "name": "ipython",
    "version": 3
   },
   "pygments_lexer": "ipython3",
   "nbconvert_exporter": "python",
   "file_extension": ".py"
  },
  "kernelspec": {
   "name": "python3",
   "display_name": "Python 3.9.6 64-bit"
  },
  "interpreter": {
   "hash": "a0336c1472b754141d11e893df3e4fe43be73ac794913f069c7b2715e42e131e"
  }
 },
 "nbformat": 4,
 "nbformat_minor": 2
}
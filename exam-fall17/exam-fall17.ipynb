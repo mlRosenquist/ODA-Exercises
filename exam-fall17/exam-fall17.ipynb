{
 "cells": [
  {
   "cell_type": "markdown",
   "source": [
    "## Exercise 1"
   ],
   "metadata": {}
  },
  {
   "cell_type": "code",
   "execution_count": 108,
   "source": [
    "import numpy as np\r\n",
    "import matplotlib.pyplot as plt\r\n",
    "from scipy.optimize import linprog\r\n",
    "\r\n",
    "def f(x1, x2):\r\n",
    "    return x1 + x2\r\n",
    "\r\n",
    "# plot the feasible region\r\n",
    "d = np.linspace(0,7,300)\r\n",
    "x1,x2 = np.meshgrid(d,d)\r\n",
    "plt.imshow( ((x1+2*x2<=12) & (x1+5*x2<=25) & (x1<=6)).astype(int) , \r\n",
    "                extent=(x1.min(),x1.max(),x2.min(),x2.max()),origin=\"lower\", cmap=\"Greys\", alpha = 0.3)\r\n",
    "\r\n",
    "\r\n",
    "# plot the lines defining the constraints\r\n",
    "x = np.linspace(0, 7, 2000)\r\n",
    "\r\n",
    "# x1+2*x2<=12\r\n",
    "# x1/2+x2 <= 6 \r\n",
    "# x2 <= 6 - x1/2\r\n",
    "y1 = 6 - x/2\r\n",
    "\r\n",
    "# x1+5*x2<=25\r\n",
    "# x2 <= 5 - x1/5 \r\n",
    "y2 = 5 - x/5\r\n",
    "\r\n",
    "# x1<=6\r\n",
    "plt.axvline(x=6, label=r'x1<=6')\r\n",
    "\r\n",
    "# # Make plot\r\n",
    "plt.plot(x, y1, label=r'$x1+2*x2<=12$')\r\n",
    "plt.plot(x, y2, label=r'$x1+5*x2<=25$')\r\n",
    "Z = f(x1, x2)\r\n",
    "cs = plt.contour(x1, x2, Z, levels=[1] ,colors='black')\r\n",
    "plt.clabel(cs, levels=[1])\r\n",
    "\r\n",
    "\r\n",
    "plt.xlim(0,7)\r\n",
    "plt.ylim(0,7)\r\n",
    "plt.legend(bbox_to_anchor=(1.05, 1), loc=2, borderaxespad=0.)\r\n",
    "plt.xlabel(r'$x1$')\r\n",
    "plt.ylabel(r'$x2$')\r\n",
    "\r\n",
    "A = np.array([\r\n",
    "    [1, 2],\r\n",
    "    [1, 5],\r\n",
    "    [1,0]])\r\n",
    "b = np.array([[12, 25, 6]])\r\n",
    "c = np.array([[-1,-1]])\r\n",
    "\r\n",
    "def add_row(A,k,j,i):\r\n",
    "    \"Add k times row j to row i in matrix A.\"\r\n",
    "    n = A.shape[0]\r\n",
    "    E = np.eye(n)\r\n",
    "    if i == j:\r\n",
    "        E[i,i] = k + 1\r\n",
    "    else:\r\n",
    "        E[i,j] = k\r\n",
    "    return E @ A\r\n",
    "\r\n",
    "def scale_row(A,k,i):\r\n",
    "    \"Multiply row i by k in matrix A.\"\r\n",
    "    n = A.shape[0]\r\n",
    "    E = np.eye(n)\r\n",
    "    E[i,i] = k\r\n",
    "    return E @ A\r\n",
    "\r\n",
    "def switch_rows(A,i,j):\r\n",
    "    \"Switch rows i and j in matrix A.\"\r\n",
    "    n = A.shape[0]\r\n",
    "    E = np.eye(n)\r\n",
    "    E[i,i] = 0\r\n",
    "    E[j,j] = 0\r\n",
    "    E[i,j] = 1\r\n",
    "    E[j,i] = 1\r\n",
    "    return E @ A\r\n",
    "    \r\n",
    "A = np.array([\r\n",
    "    [1, 2, 1, 0, 0, 12],\r\n",
    "    [1, 5, 0, 1, 0, 25],\r\n",
    "    [1, 0, 0, 0, 1, 6],\r\n",
    "    [-1, -1, 0, 0, 0, 0]])\r\n",
    "\r\n",
    "A = add_row(A, -1, 2, 0)\r\n",
    "A = add_row(A, -1, 2, 1)\r\n",
    "A = add_row(A, 1, 2, 3)\r\n",
    "\r\n",
    "A = scale_row(A, 1/2, 0)\r\n",
    "A = scale_row(A, 1/5, 1)\r\n",
    "\r\n",
    "A = add_row(A, -1, 0, 1)\r\n",
    "A = add_row(A, 1, 0, 3)\r\n",
    "A\r\n",
    "# Ab = A.conjugate()\r\n",
    "\r\n",
    "\r\n",
    "# linprog(c, A_ub=A, b_ub=b, method=\"simplex\",options={\"disp\": True})\r\n"
   ],
   "outputs": [
    {
     "output_type": "execute_result",
     "data": {
      "text/plain": [
       "array([[ 0. ,  1. ,  0.5,  0. , -0.5,  3. ],\n",
       "       [ 0. ,  0. , -0.5,  0.2,  0.3,  0.8],\n",
       "       [ 1. ,  0. ,  0. ,  0. ,  1. ,  6. ],\n",
       "       [ 0. ,  0. ,  0.5,  0. ,  0.5,  9. ]])"
      ]
     },
     "metadata": {},
     "execution_count": 108
    },
    {
     "output_type": "display_data",
     "data": {
      "image/png": "[encoded data removed]",
      "text/plain": [
       "<Figure size 432x288 with 1 Axes>"
      ]
     },
     "metadata": {
      "needs_background": "light"
     }
    }
   ],
   "metadata": {}
  },
  {
   "cell_type": "markdown",
   "source": [
    "# Exercise 2"
   ],
   "metadata": {}
  }
 ],
 "metadata": {
  "orig_nbformat": 4,
  "language_info": {
   "name": "python",
   "version": "3.9.6",
   "mimetype": "text/x-python",
   "codemirror_mode": {
    "name": "ipython",
    "version": 3
   },
   "pygments_lexer": "ipython3",
   "nbconvert_exporter": "python",
   "file_extension": ".py"
  },
  "kernelspec": {
   "name": "python3",
   "display_name": "Python 3.9.6 64-bit"
  },
  "interpreter": {
   "hash": "a0336c1472b754141d11e893df3e4fe43be73ac794913f069c7b2715e42e131e"
  }
 },
 "nbformat": 4,
 "nbformat_minor": 2
}
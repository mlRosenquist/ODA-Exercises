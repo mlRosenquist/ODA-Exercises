{
 "cells": [
  {
   "cell_type": "markdown",
   "source": [
    "## Exercise 1\r\n",
    "\r\n",
    "Find the minimum and maximum of the functiun $$f(x,y)=x+y^2$$ \\\\\r\n",
    "Subject to the function $$2x^2+y^2=1$$"
   ],
   "metadata": {}
  },
  {
   "cell_type": "markdown",
   "source": [
    "We setup the equations $$F(x,y,l)=x+y^2-l*(2x^2+y^2-1)$$\r\n",
    "\r\n",
    "Set of equations \r\n",
    "$$l*4x-1=0$$\r\n",
    "$$2y-l*2y=0$$\r\n",
    "$$2x^2+y^2=1$$\r\n",
    "\r\n",
    "Solve for x and y\r\n",
    "$$x=1/4*l$$\r\n",
    "$$2y=1*2y$$\r\n",
    "$$2x^2+y^2=1$$"
   ],
   "metadata": {}
  },
  {
   "cell_type": "code",
   "execution_count": 111,
   "source": [
    "from numpy import *\r\n",
    "from scipy import * \r\n",
    "from sympy import *\r\n",
    "\r\n",
    "x, y, l = symbols('x,y,l', real=True)\r\n",
    "\r\n",
    "f = x + y**2\r\n",
    "h = 2*x**2+y**2-1\r\n",
    "F = f - l*h\r\n",
    "\r\n",
    "print(F.diff(x))\r\n",
    "print(F.diff(y))\r\n",
    "print(F.diff(l))\r\n",
    "f = lambdify([x,y], f)\r\n",
    "\r\n",
    "(f(1/4, -(sqrt(7/2)/2)), f(1/4, (sqrt(7/2)/2)),f(1/sqrt(2), 0), f(-1/sqrt(2), 0) )\r\n",
    "\r\n",
    "\r\n"
   ],
   "outputs": [
    {
     "output_type": "stream",
     "name": "stdout",
     "text": [
      "-4*l*x + 1\n",
      "-2*l*y + 2*y\n",
      "-2*x**2 - y**2 + 1\n"
     ]
    },
    {
     "output_type": "execute_result",
     "data": {
      "text/plain": [
       "(1.12500000000000, 1.12500000000000, sqrt(2)/2, -sqrt(2)/2)"
      ]
     },
     "metadata": {},
     "execution_count": 111
    }
   ],
   "metadata": {}
  },
  {
   "cell_type": "markdown",
   "source": [
    "## Exercise 2 \r\n",
    "\r\n",
    "Find the maximum and minimum values of the function $$f(x,y)=2x^2+3y^2+1$$, where x and y lie on the ellipse $$4x^2+y^2-4=0$$"
   ],
   "metadata": {}
  },
  {
   "cell_type": "code",
   "execution_count": 112,
   "source": [
    "from numpy import *\r\n",
    "from scipy import * \r\n",
    "from sympy import *\r\n",
    "\r\n",
    "x, y, l = symbols('x,y,l', real=True)\r\n",
    "\r\n",
    "f = 2*x**2+3*y**2+1\r\n",
    "c = 4*x**2+y**2-4\r\n",
    "F = f - l*c\r\n",
    "\r\n",
    "print(F.diff(x))\r\n",
    "print(F.diff(y))\r\n",
    "print(F.diff(l))\r\n",
    "f = lambdify([x,y], f)\r\n",
    "\r\n",
    "(f(-1,0), f(1,0), f(0,-2), f(0,2))\r\n",
    "\r\n",
    "\r\n"
   ],
   "outputs": [
    {
     "output_type": "stream",
     "name": "stdout",
     "text": [
      "-8*l*x + 4*x\n",
      "-2*l*y + 6*y\n",
      "-4*x**2 - y**2 + 4\n"
     ]
    },
    {
     "output_type": "execute_result",
     "data": {
      "text/plain": [
       "(3, 3, 13, 13)"
      ]
     },
     "metadata": {},
     "execution_count": 112
    }
   ],
   "metadata": {}
  },
  {
   "cell_type": "markdown",
   "source": [
    "![image info](images/20_2_b.png)"
   ],
   "metadata": {}
  },
  {
   "cell_type": "code",
   "execution_count": 121,
   "source": [
    "from numpy import *\r\n",
    "from scipy import * \r\n",
    "from sympy import *\r\n",
    "\r\n",
    "x1, x2, l = symbols('x1,x2,l', real=True)\r\n",
    "\r\n",
    "f = 4*x1+x2**2\r\n",
    "c = x1**2+x2**2-9\r\n",
    "F = f + l*c\r\n",
    "\r\n",
    "print(F.diff(x1))\r\n",
    "print(F.diff(x2))\r\n",
    "print(F.diff(l))\r\n",
    "f = lambdify([x1,x2], f)\r\n",
    "\r\n",
    "(f(2, -sqrt(5)), f(2, sqrt(5)), f(-3,0), f(3,0))\r\n",
    "\r\n",
    "\r\n",
    "\r\n"
   ],
   "outputs": [
    {
     "output_type": "stream",
     "name": "stdout",
     "text": [
      "2*l*x1 + 4\n",
      "2*l*x2 + 2*x2\n",
      "x1**2 + x2**2 - 9\n"
     ]
    },
    {
     "output_type": "execute_result",
     "data": {
      "text/plain": [
       "(13, 13, -12, 12)"
      ]
     },
     "metadata": {},
     "execution_count": 121
    }
   ],
   "metadata": {}
  },
  {
   "cell_type": "markdown",
   "source": [
    "![image info](images/20_2_a_c.png)"
   ],
   "metadata": {}
  },
  {
   "cell_type": "code",
   "execution_count": 130,
   "source": [
    "from numpy import *\r\n",
    "from scipy import * \r\n",
    "from sympy import *\r\n",
    "\r\n",
    "x1, x2, x3, l, V = symbols('x1,x2, x3,l, V', real=True)\r\n",
    "\r\n",
    "f = 2*(x1*x2+x2*x3+x3*x1)\r\n",
    "c = x1*x2*x3 - V\r\n",
    "F = f + l*c\r\n",
    "\r\n",
    "print(F.diff(x1))\r\n",
    "print(F.diff(x2))\r\n",
    "print(F.diff(x3))\r\n",
    "print(F.diff(l))\r\n",
    "f = lambdify([x1,x2, x3], f)\r\n",
    "\r\n",
    "\r\n",
    "\r\n",
    "\r\n"
   ],
   "outputs": [
    {
     "output_type": "stream",
     "name": "stdout",
     "text": [
      "l*x2*x3 + 2*x2 + 2*x3\n",
      "l*x1*x3 + 2*x1 + 2*x3\n",
      "l*x1*x2 + 2*x1 + 2*x2\n",
      "-V + x1*x2*x3\n"
     ]
    },
    {
     "output_type": "execute_result",
     "data": {
      "text/plain": [
       "4.641588833612778"
      ]
     },
     "metadata": {},
     "execution_count": 130
    }
   ],
   "metadata": {}
  }
 ],
 "metadata": {
  "orig_nbformat": 4,
  "language_info": {
   "name": "python",
   "version": "3.9.6",
   "mimetype": "text/x-python",
   "codemirror_mode": {
    "name": "ipython",
    "version": 3
   },
   "pygments_lexer": "ipython3",
   "nbconvert_exporter": "python",
   "file_extension": ".py"
  },
  "kernelspec": {
   "name": "python3",
   "display_name": "Python 3.9.6 64-bit"
  },
  "interpreter": {
   "hash": "a0336c1472b754141d11e893df3e4fe43be73ac794913f069c7b2715e42e131e"
  }
 },
 "nbformat": 4,
 "nbformat_minor": 2
}
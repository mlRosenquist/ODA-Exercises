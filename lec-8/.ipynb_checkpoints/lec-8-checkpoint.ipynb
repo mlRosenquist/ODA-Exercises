{
 "cells": [
  {
   "cell_type": "markdown",
   "metadata": {
    "tags": []
   },
   "source": [
    "## CZ\n",
    "### Exercise 8.8\n",
    "![image info](images/8_8.png)\n",
    "\n",
    "Rewrite f as $f(\\bold{x})=1/2\\bold{x}^TQ\\bold{x}-\\bold{b}^T\\bold{x}$\n",
    "\n",
    "\n",
    "$$\n",
    "\\begin{align}\n",
    "Q\n",
    "&=\n",
    "\\begin{bmatrix} \n",
    "6 & 4 \\\\ \n",
    "4 & 6 \n",
    "\\end{bmatrix} \n",
    "\n",
    "\\end{align}\n",
    "$$"
   ]
  },
  {
   "cell_type": "code",
   "execution_count": 45,
   "metadata": {},
   "outputs": [
    {
     "name": "stdout",
     "output_type": "stream",
     "text": [
      "3*x1**2 + 4*x1*x2 + 5*x1 + 3*x2**2 + 6*x2 + 7\n"
     ]
    },
    {
     "data": {
      "text/markdown": [
       "$$ 0 \\lt \\alpha \\lt 1.9999999999999996/10.0$$"
      ],
      "text/plain": [
       "<IPython.core.display.Markdown object>"
      ]
     },
     "execution_count": 45,
     "metadata": {},
     "output_type": "execute_result"
    }
   ],
   "source": [
    "import sympy as sp\n",
    "import numpy as np\n",
    "from IPython.display import Markdown as md\n",
    "\n",
    "x1,x2 = sp.symbols('x1,x2')\n",
    "\n",
    "y = 3*(x1**2+x2**2)+4*x1*x2+5*x1+6*x2+7\n",
    "\n",
    "print(sp.simplify(y))\n",
    "\n",
    "Q = np.array(([6,4], [4,6]))\n",
    "p = 1 + 1\n",
    "v = np.linalg.eigvalsh(Q)\n",
    "n = 10\n",
    "md(f\"$$ 0 \\\\lt \\\\alpha \\lt {v[0]}/{v[1]}$$\")\n"
   ]
  },
  {
   "cell_type": "markdown",
   "metadata": {},
   "source": [
    "{{p}}\n",
    "$$\n",
    "0 \\lt \\alpha \\lt {{p}}\n",
    "$$"
   ]
  },
  {
   "cell_type": "markdown",
   "metadata": {
    "tags": []
   },
   "source": [
    "### Exercise 8.16\n",
    "![image info](images/8_16.png)\n",
    "![image info](images/8_16_sol.png)\n",
    "\n",
    "### Exercise 8.21\n",
    "![image info](images/8_21.png)"
   ]
  },
  {
   "cell_type": "code",
   "execution_count": 49,
   "metadata": {
    "tags": []
   },
   "outputs": [
    {
     "data": {
      "text/markdown": [
       "$$ 0 \\lt \\alpha \\lt 2/10$$"
      ],
      "text/plain": [
       "<IPython.core.display.Markdown object>"
      ]
     },
     "execution_count": 49,
     "metadata": {},
     "output_type": "execute_result"
    }
   ],
   "source": [
    "import sympy as sp \n",
    "import numpy as np \n",
    "from IPython.display import Markdown as md\n",
    "\n",
    "x1,x2 = sp.symbols('x1,x2')\n",
    "\n",
    "f = 1 + 2*x1+3*(x1**2+x2**2)+4*x1*x2       \n",
    "\n",
    "v = list(sp.ordered(f.free_symbols))\n",
    "\n",
    "gradient = lambda f, v: Matrix([f]).jacobian(v)\n",
    "\n",
    "Q = sp.hessian(f, v)\n",
    "v = np.linalg.eigvalsh(np.array(Q).astype(np.float64))\n",
    "md(f\"$$ 0 \\\\lt \\\\alpha \\lt {2}/{10}$$\")"
   ]
  },
  {
   "cell_type": "code",
   "execution_count": 102,
   "metadata": {
    "tags": []
   },
   "outputs": [
    {
     "data": {
      "text/latex": [
       "$\\displaystyle \\left[\\begin{matrix}6 & 4\\\\4 & 6\\end{matrix}\\right]$"
      ],
      "text/plain": [
       "Matrix([\n",
       "[6, 4],\n",
       "[4, 6]])"
      ]
     },
     "metadata": {},
     "output_type": "display_data"
    },
    {
     "data": {
      "text/markdown": [
       "$$ 0 \\lt \\alpha \\lt 2/10$$"
      ],
      "text/plain": [
       "<IPython.core.display.Markdown object>"
      ]
     },
     "metadata": {},
     "output_type": "display_data"
    }
   ],
   "source": [
    "import sympy as sp \n",
    "import numpy as np \n",
    "from IPython.display import display, Markdown, Latex\n",
    "\n",
    "x1,x2 = sp.symbols('x1,x2')\n",
    "x = sp.Matrix(([x1], [x2]))\n",
    "\n",
    "\n",
    "\n",
    "f = (sp.transpose(x) * sp.Matrix(([3,3],[1,3]))*x)[0] + sp.Matrix(([16,23])).dot(x) + np.pi**2\n",
    "v = list(sp.ordered(f.free_symbols)) \n",
    "\n",
    "gradient = lambda f, v: sp.Matrix([f]).jacobian(v)\n",
    "display(sp.hessian(f, v))\n",
    "display(Markdown(f\"$$ 0 \\\\lt \\\\alpha \\lt {2}/{10}$$\"))"
   ]
  },
  {
   "cell_type": "markdown",
   "metadata": {},
   "source": [
    "### Exercise 8.25\n",
    "![image info](images/8_25.png)"
   ]
  },
  {
   "cell_type": "markdown",
   "metadata": {},
   "source": [
    "### Exercise 8.26\n",
    "![image info](images/8_26.png)"
   ]
  },
  {
   "cell_type": "code",
   "execution_count": 119,
   "metadata": {},
   "outputs": [
    {
     "data": {
      "text/plain": [
       "(1.4122479853039636,\n",
       "       converged: True\n",
       "            flag: 'converged'\n",
       "  function_calls: 5122\n",
       "      iterations: 5121\n",
       "            root: 1.4122479853039636)"
      ]
     },
     "execution_count": 119,
     "metadata": {},
     "output_type": "execute_result"
    }
   ],
   "source": [
    "from scipy import optimize\n",
    "\n",
    "def g1(x,y):\n",
    "  return 100*(y-x**2)**2+(1-x)**2\n",
    "\n",
    "x0 = -2\n",
    "y0 = 2\n",
    "root = optimize.newton(g1, x0, full_output=True, disp=True, args=(y0,), maxiter=100000)\n",
    "root"
   ]
  },
  {
   "cell_type": "markdown",
   "metadata": {},
   "source": [
    "### Exercise 3.15\n",
    "![image info](images/3_15.png)\n"
   ]
  },
  {
   "cell_type": "code",
   "execution_count": 131,
   "metadata": {},
   "outputs": [
    {
     "data": {
      "text/plain": [
       "(array([1.+2.82842712j, 1.-2.82842712j]),\n",
       " array([[0.94280904+0.j        , 0.94280904-0.j        ],\n",
       "        [0.        -0.33333333j, 0.        +0.33333333j]]))"
      ]
     },
     "execution_count": 131,
     "metadata": {},
     "output_type": "execute_result"
    }
   ],
   "source": [
    "import numpy as np\n",
    "\n",
    "Q = np.array(([1,-8], [1,1]))\n",
    "\n",
    "np.linalg.eig(Q)\n",
    "\n"
   ]
  },
  {
   "cell_type": "markdown",
   "metadata": {
    "tags": []
   },
   "source": [
    "### Exercise 3.18\n",
    "![image info](images/3_18.png)"
   ]
  },
  {
   "cell_type": "code",
   "execution_count": 163,
   "metadata": {},
   "outputs": [
    {
     "data": {
      "text/latex": [
       "$\\displaystyle \\left[\\begin{matrix}2\\end{matrix}\\right]$"
      ],
      "text/plain": [
       "Matrix([[2]])"
      ]
     },
     "metadata": {},
     "output_type": "display_data"
    },
    {
     "data": {
      "text/latex": [
       "$\\displaystyle \\left[\\begin{matrix}2 & 0 & -1\\\\0 & 4 & 0\\\\-1 & 0 & 0\\end{matrix}\\right]$"
      ],
      "text/plain": [
       "Matrix([\n",
       "[ 2, 0, -1],\n",
       "[ 0, 4,  0],\n",
       "[-1, 0,  0]])"
      ]
     },
     "metadata": {},
     "output_type": "display_data"
    },
    {
     "data": {
      "text/latex": [
       "$\\displaystyle \\left[\\begin{matrix}2 & 2 & 2\\\\2 & 0 & 2\\\\2 & 2 & 2\\end{matrix}\\right]$"
      ],
      "text/plain": [
       "Matrix([\n",
       "[2, 2, 2],\n",
       "[2, 0, 2],\n",
       "[2, 2, 2]])"
      ]
     },
     "metadata": {},
     "output_type": "display_data"
    },
    {
     "data": {
      "text/plain": [
       "[(2, 1, [Matrix([[1]])])]"
      ]
     },
     "metadata": {},
     "output_type": "display_data"
    },
    {
     "data": {
      "text/plain": [
       "[(4,\n",
       "  1,\n",
       "  [Matrix([\n",
       "   [0],\n",
       "   [1],\n",
       "   [0]])]),\n",
       " (1 - sqrt(2),\n",
       "  1,\n",
       "  [Matrix([\n",
       "   [-1 + sqrt(2)],\n",
       "   [           0],\n",
       "   [           1]])]),\n",
       " (1 + sqrt(2),\n",
       "  1,\n",
       "  [Matrix([\n",
       "   [-sqrt(2) - 1],\n",
       "   [           0],\n",
       "   [           1]])])]"
      ]
     },
     "metadata": {},
     "output_type": "display_data"
    },
    {
     "data": {
      "text/plain": [
       "[(0,\n",
       "  1,\n",
       "  [Matrix([\n",
       "   [-1],\n",
       "   [ 0],\n",
       "   [ 1]])]),\n",
       " (2 - 2*sqrt(3),\n",
       "  1,\n",
       "  [Matrix([\n",
       "   [           1],\n",
       "   [-sqrt(3) - 1],\n",
       "   [           1]])]),\n",
       " (2 + 2*sqrt(3),\n",
       "  1,\n",
       "  [Matrix([\n",
       "   [           1],\n",
       "   [-1 + sqrt(3)],\n",
       "   [           1]])])]"
      ]
     },
     "metadata": {},
     "output_type": "display_data"
    }
   ],
   "source": [
    "import sympy as sp \n",
    "import numpy as np \n",
    "from IPython.display import display, Markdown, Latex\n",
    "\n",
    "x1,x2,x3 = sp.symbols('x1,x2,x3')\n",
    "x = sp.Matrix(([x1], [x2], [x3]))\n",
    "\n",
    "f1 = x2**2 + 0 *x1 + 0 * x3\n",
    "f2 = x1**2+2*x2**2-x1*x3\n",
    "f3 = x1**2+x3**2+2*x1*x2+2*x1*x3+2*x2*x3\n",
    "\n",
    "v1 = list(sp.ordered(f1.free_symbols)) \n",
    "v2 = list(sp.ordered(f2.free_symbols))\n",
    "v3 = list(sp.ordered(f3.free_symbols))\n",
    "\n",
    "Q1 = sp.hessian(f1, v1)\n",
    "Q2 = sp.hessian(f2, v2)\n",
    "Q3 = sp.hessian(f3, v3)\n",
    "\n",
    "display(Q1)\n",
    "display(Q2)\n",
    "display(Q3)\n",
    "\n",
    "display(sp.Matrix(Q1).eigenvects())\n",
    "\n",
    "display(sp.Matrix(Q2).eigenvects())\n",
    "\n",
    "display(sp.Matrix(Q3).eigenvects())\n"
   ]
  }
 ],
 "metadata": {
  "interpreter": {
   "hash": "a0336c1472b754141d11e893df3e4fe43be73ac794913f069c7b2715e42e131e"
  },
  "jupytext": {
   "formats": "ipynb,md"
  },
  "kernelspec": {
   "display_name": "Python 3 (ipykernel)",
   "language": "python",
   "name": "python3"
  },
  "language_info": {
   "codemirror_mode": {
    "name": "ipython",
    "version": 3
   },
   "file_extension": ".py",
   "mimetype": "text/x-python",
   "name": "python",
   "nbconvert_exporter": "python",
   "pygments_lexer": "ipython3",
   "version": "3.9.6"
  }
 },
 "nbformat": 4,
 "nbformat_minor": 4
}
